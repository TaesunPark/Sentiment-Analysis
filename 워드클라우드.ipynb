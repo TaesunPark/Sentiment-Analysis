{
  "nbformat": 4,
  "nbformat_minor": 0,
  "metadata": {
    "colab": {
      "name": "Untitled9.ipynb",
      "provenance": [],
      "collapsed_sections": []
    },
    "kernelspec": {
      "name": "python3",
      "display_name": "Python 3"
    },
    "language_info": {
      "name": "python"
    }
  },
  "cells": [
    {
      "cell_type": "code",
      "execution_count": null,
      "metadata": {
        "colab": {
          "base_uri": "https://localhost:8080/"
        },
        "id": "IvEcpsWWeuN1",
        "outputId": "1a638718-361d-4ab4-f9ab-852c25e277c4"
      },
      "outputs": [
        {
          "output_type": "stream",
          "name": "stdout",
          "text": [
            "Mounted at /content/drive\n"
          ]
        }
      ],
      "source": [
        "#1. colab 환경 설정\n",
        "from google.colab import drive\n",
        "drive.mount('/content/drive')"
      ]
    },
    {
      "cell_type": "code",
      "source": [
        "!pip install wordcloud"
      ],
      "metadata": {
        "colab": {
          "base_uri": "https://localhost:8080/"
        },
        "id": "nITTqSIkeu0b",
        "outputId": "e1439cb7-020f-418c-b2da-ce6d2eb4fd83"
      },
      "execution_count": null,
      "outputs": [
        {
          "output_type": "stream",
          "name": "stdout",
          "text": [
            "Requirement already satisfied: wordcloud in /usr/local/lib/python3.7/dist-packages (1.5.0)\n",
            "Requirement already satisfied: pillow in /usr/local/lib/python3.7/dist-packages (from wordcloud) (7.1.2)\n",
            "Requirement already satisfied: numpy>=1.6.1 in /usr/local/lib/python3.7/dist-packages (from wordcloud) (1.21.6)\n"
          ]
        }
      ]
    },
    {
      "cell_type": "code",
      "source": [
        "!pip install konlpy"
      ],
      "metadata": {
        "colab": {
          "base_uri": "https://localhost:8080/"
        },
        "id": "8iWkc7eKe6fB",
        "outputId": "dda998bd-8bcf-422c-99a9-b76f89eb223e"
      },
      "execution_count": null,
      "outputs": [
        {
          "output_type": "stream",
          "name": "stdout",
          "text": [
            "Collecting konlpy\n",
            "  Downloading konlpy-0.6.0-py2.py3-none-any.whl (19.4 MB)\n",
            "\u001b[K     |████████████████████████████████| 19.4 MB 1.3 MB/s \n",
            "\u001b[?25hRequirement already satisfied: lxml>=4.1.0 in /usr/local/lib/python3.7/dist-packages (from konlpy) (4.2.6)\n",
            "Collecting JPype1>=0.7.0\n",
            "  Downloading JPype1-1.4.0-cp37-cp37m-manylinux_2_5_x86_64.manylinux1_x86_64.whl (453 kB)\n",
            "\u001b[K     |████████████████████████████████| 453 kB 54.6 MB/s \n",
            "\u001b[?25hRequirement already satisfied: numpy>=1.6 in /usr/local/lib/python3.7/dist-packages (from konlpy) (1.21.6)\n",
            "Requirement already satisfied: typing-extensions in /usr/local/lib/python3.7/dist-packages (from JPype1>=0.7.0->konlpy) (4.2.0)\n",
            "Installing collected packages: JPype1, konlpy\n",
            "Successfully installed JPype1-1.4.0 konlpy-0.6.0\n"
          ]
        }
      ]
    },
    {
      "cell_type": "code",
      "source": [
        "!pip install pororo"
      ],
      "metadata": {
        "colab": {
          "base_uri": "https://localhost:8080/",
          "height": 1000
        },
        "id": "rdJUlL9Me63a",
        "outputId": "98212ea7-36dc-456d-f0f2-7b2f538c19de"
      },
      "execution_count": null,
      "outputs": [
        {
          "output_type": "stream",
          "name": "stdout",
          "text": [
            "Collecting pororo\n",
            "  Downloading pororo-0.4.2-py3-none-any.whl (256 kB)\n",
            "\u001b[K     |████████████████████████████████| 256 kB 8.8 MB/s \n",
            "\u001b[?25hCollecting nltk>=3.5\n",
            "  Downloading nltk-3.7-py3-none-any.whl (1.5 MB)\n",
            "\u001b[K     |████████████████████████████████| 1.5 MB 63.4 MB/s \n",
            "\u001b[?25hCollecting wget\n",
            "  Downloading wget-3.2.zip (10 kB)\n",
            "Requirement already satisfied: joblib in /usr/local/lib/python3.7/dist-packages (from pororo) (1.1.0)\n",
            "Requirement already satisfied: lxml in /usr/local/lib/python3.7/dist-packages (from pororo) (4.2.6)\n",
            "Collecting kss\n",
            "  Downloading kss-3.4.2.tar.gz (42.4 MB)\n",
            "\u001b[K     |████████████████████████████████| 42.4 MB 1.3 MB/s \n",
            "\u001b[?25hCollecting torch==1.6.0\n",
            "  Downloading torch-1.6.0-cp37-cp37m-manylinux1_x86_64.whl (748.8 MB)\n",
            "\u001b[K     |████████████████████████████████| 748.8 MB 17 kB/s \n",
            "\u001b[?25hCollecting word2word\n",
            "  Downloading word2word-1.0.0-py3-none-any.whl (31 kB)\n",
            "Collecting g2p-en\n",
            "  Downloading g2p_en-2.1.0-py3-none-any.whl (3.1 MB)\n",
            "\u001b[K     |████████████████████████████████| 3.1 MB 67.3 MB/s \n",
            "\u001b[?25hCollecting marisa-trie\n",
            "  Downloading marisa_trie-0.7.7-cp37-cp37m-manylinux_2_5_x86_64.manylinux1_x86_64.manylinux_2_12_x86_64.manylinux2010_x86_64.whl (1.2 MB)\n",
            "\u001b[K     |████████████████████████████████| 1.2 MB 55.2 MB/s \n",
            "\u001b[?25hRequirement already satisfied: pillow>=4.1.1 in /usr/local/lib/python3.7/dist-packages (from pororo) (7.1.2)\n",
            "Collecting fairseq>=0.10.2\n",
            "  Downloading fairseq-0.10.2-cp37-cp37m-manylinux1_x86_64.whl (1.7 MB)\n",
            "\u001b[K     |████████████████████████████████| 1.7 MB 71.7 MB/s \n",
            "\u001b[?25hCollecting whoosh\n",
            "  Downloading Whoosh-2.7.4-py2.py3-none-any.whl (468 kB)\n",
            "\u001b[K     |████████████████████████████████| 468 kB 67.7 MB/s \n",
            "\u001b[?25hCollecting transformers>=4.0.0\n",
            "  Downloading transformers-4.19.2-py3-none-any.whl (4.2 MB)\n",
            "\u001b[K     |████████████████████████████████| 4.2 MB 50.6 MB/s \n",
            "\u001b[?25hCollecting torchvision==0.7.0\n",
            "  Downloading torchvision-0.7.0-cp37-cp37m-manylinux1_x86_64.whl (5.9 MB)\n",
            "\u001b[K     |████████████████████████████████| 5.9 MB 49.3 MB/s \n",
            "\u001b[?25hCollecting sentence-transformers>=0.4.1.2\n",
            "  Downloading sentence-transformers-2.2.0.tar.gz (79 kB)\n",
            "\u001b[K     |████████████████████████████████| 79 kB 10.9 MB/s \n",
            "\u001b[?25hRequirement already satisfied: numpy in /usr/local/lib/python3.7/dist-packages (from torch==1.6.0->pororo) (1.21.6)\n",
            "Requirement already satisfied: future in /usr/local/lib/python3.7/dist-packages (from torch==1.6.0->pororo) (0.16.0)\n",
            "Requirement already satisfied: tqdm in /usr/local/lib/python3.7/dist-packages (from fairseq>=0.10.2->pororo) (4.64.0)\n",
            "Requirement already satisfied: regex in /usr/local/lib/python3.7/dist-packages (from fairseq>=0.10.2->pororo) (2019.12.20)\n",
            "Requirement already satisfied: cffi in /usr/local/lib/python3.7/dist-packages (from fairseq>=0.10.2->pororo) (1.15.0)\n",
            "Collecting hydra-core\n",
            "  Downloading hydra_core-1.2.0-py3-none-any.whl (151 kB)\n",
            "\u001b[K     |████████████████████████████████| 151 kB 68.2 MB/s \n",
            "\u001b[?25hCollecting dataclasses\n",
            "  Downloading dataclasses-0.6-py3-none-any.whl (14 kB)\n",
            "Collecting sacrebleu>=1.4.12\n",
            "  Downloading sacrebleu-2.1.0-py3-none-any.whl (92 kB)\n",
            "\u001b[K     |████████████████████████████████| 92 kB 12.5 MB/s \n",
            "\u001b[?25hRequirement already satisfied: cython in /usr/local/lib/python3.7/dist-packages (from fairseq>=0.10.2->pororo) (0.29.30)\n",
            "Requirement already satisfied: click in /usr/local/lib/python3.7/dist-packages (from nltk>=3.5->pororo) (7.1.2)\n",
            "Collecting regex\n",
            "  Downloading regex-2022.4.24-cp37-cp37m-manylinux_2_17_x86_64.manylinux2014_x86_64.whl (749 kB)\n",
            "\u001b[K     |████████████████████████████████| 749 kB 78.1 MB/s \n",
            "\u001b[?25hRequirement already satisfied: tabulate>=0.8.9 in /usr/local/lib/python3.7/dist-packages (from sacrebleu>=1.4.12->fairseq>=0.10.2->pororo) (0.8.9)\n",
            "Collecting colorama\n",
            "  Downloading colorama-0.4.4-py2.py3-none-any.whl (16 kB)\n",
            "Collecting portalocker\n",
            "  Downloading portalocker-2.4.0-py2.py3-none-any.whl (16 kB)\n",
            "Requirement already satisfied: scikit-learn in /usr/local/lib/python3.7/dist-packages (from sentence-transformers>=0.4.1.2->pororo) (1.0.2)\n",
            "Requirement already satisfied: scipy in /usr/local/lib/python3.7/dist-packages (from sentence-transformers>=0.4.1.2->pororo) (1.4.1)\n",
            "Collecting sentencepiece\n",
            "  Downloading sentencepiece-0.1.96-cp37-cp37m-manylinux_2_17_x86_64.manylinux2014_x86_64.whl (1.2 MB)\n",
            "\u001b[K     |████████████████████████████████| 1.2 MB 66.7 MB/s \n",
            "\u001b[?25hCollecting huggingface-hub\n",
            "  Downloading huggingface_hub-0.6.0-py3-none-any.whl (84 kB)\n",
            "\u001b[K     |████████████████████████████████| 84 kB 4.5 MB/s \n",
            "\u001b[?25hRequirement already satisfied: requests in /usr/local/lib/python3.7/dist-packages (from transformers>=4.0.0->pororo) (2.23.0)\n",
            "Collecting pyyaml>=5.1\n",
            "  Downloading PyYAML-6.0-cp37-cp37m-manylinux_2_5_x86_64.manylinux1_x86_64.manylinux_2_12_x86_64.manylinux2010_x86_64.whl (596 kB)\n",
            "\u001b[K     |████████████████████████████████| 596 kB 60.2 MB/s \n",
            "\u001b[?25hRequirement already satisfied: importlib-metadata in /usr/local/lib/python3.7/dist-packages (from transformers>=4.0.0->pororo) (4.11.3)\n",
            "Requirement already satisfied: filelock in /usr/local/lib/python3.7/dist-packages (from transformers>=4.0.0->pororo) (3.7.0)\n",
            "Requirement already satisfied: packaging>=20.0 in /usr/local/lib/python3.7/dist-packages (from transformers>=4.0.0->pororo) (21.3)\n",
            "Collecting tokenizers!=0.11.3,<0.13,>=0.11.1\n",
            "  Downloading tokenizers-0.12.1-cp37-cp37m-manylinux_2_12_x86_64.manylinux2010_x86_64.whl (6.6 MB)\n",
            "\u001b[K     |████████████████████████████████| 6.6 MB 59.3 MB/s \n",
            "\u001b[?25hRequirement already satisfied: typing-extensions>=3.7.4.3 in /usr/local/lib/python3.7/dist-packages (from huggingface-hub->sentence-transformers>=0.4.1.2->pororo) (4.2.0)\n",
            "Requirement already satisfied: pyparsing!=3.0.5,>=2.0.2 in /usr/local/lib/python3.7/dist-packages (from packaging>=20.0->transformers>=4.0.0->pororo) (3.0.9)\n",
            "Requirement already satisfied: pycparser in /usr/local/lib/python3.7/dist-packages (from cffi->fairseq>=0.10.2->pororo) (2.21)\n",
            "Collecting distance>=0.1.3\n",
            "  Downloading Distance-0.1.3.tar.gz (180 kB)\n",
            "\u001b[K     |████████████████████████████████| 180 kB 68.4 MB/s \n",
            "\u001b[?25hRequirement already satisfied: inflect>=0.3.1 in /usr/local/lib/python3.7/dist-packages (from g2p-en->pororo) (2.1.0)\n",
            "Collecting omegaconf~=2.2\n",
            "  Downloading omegaconf-2.2.1-py3-none-any.whl (78 kB)\n",
            "\u001b[K     |████████████████████████████████| 78 kB 9.6 MB/s \n",
            "\u001b[?25hCollecting antlr4-python3-runtime==4.9.*\n",
            "  Downloading antlr4-python3-runtime-4.9.3.tar.gz (117 kB)\n",
            "\u001b[K     |████████████████████████████████| 117 kB 75.9 MB/s \n",
            "\u001b[?25hRequirement already satisfied: importlib-resources in /usr/local/lib/python3.7/dist-packages (from hydra-core->fairseq>=0.10.2->pororo) (5.7.1)\n",
            "Requirement already satisfied: zipp>=0.5 in /usr/local/lib/python3.7/dist-packages (from importlib-metadata->transformers>=4.0.0->pororo) (3.8.0)\n",
            "Collecting emoji\n",
            "  Downloading emoji-1.7.0.tar.gz (175 kB)\n",
            "\u001b[K     |████████████████████████████████| 175 kB 68.3 MB/s \n",
            "\u001b[?25hRequirement already satisfied: more_itertools in /usr/local/lib/python3.7/dist-packages (from kss->pororo) (8.13.0)\n",
            "Requirement already satisfied: setuptools in /usr/local/lib/python3.7/dist-packages (from marisa-trie->pororo) (57.4.0)\n",
            "Requirement already satisfied: chardet<4,>=3.0.2 in /usr/local/lib/python3.7/dist-packages (from requests->transformers>=4.0.0->pororo) (3.0.4)\n",
            "Requirement already satisfied: urllib3!=1.25.0,!=1.25.1,<1.26,>=1.21.1 in /usr/local/lib/python3.7/dist-packages (from requests->transformers>=4.0.0->pororo) (1.24.3)\n",
            "Requirement already satisfied: certifi>=2017.4.17 in /usr/local/lib/python3.7/dist-packages (from requests->transformers>=4.0.0->pororo) (2021.10.8)\n",
            "Requirement already satisfied: idna<3,>=2.5 in /usr/local/lib/python3.7/dist-packages (from requests->transformers>=4.0.0->pororo) (2.10)\n",
            "Requirement already satisfied: threadpoolctl>=2.0.0 in /usr/local/lib/python3.7/dist-packages (from scikit-learn->sentence-transformers>=0.4.1.2->pororo) (3.1.0)\n",
            "Building wheels for collected packages: sentence-transformers, distance, antlr4-python3-runtime, kss, emoji, wget\n",
            "  Building wheel for sentence-transformers (setup.py) ... \u001b[?25l\u001b[?25hdone\n",
            "  Created wheel for sentence-transformers: filename=sentence_transformers-2.2.0-py3-none-any.whl size=120747 sha256=7f49365f4725ffc71cbd947f1b0f7c78c9801323d5d83d48ed64ad45f1df0f1e\n",
            "  Stored in directory: /root/.cache/pip/wheels/83/c0/df/b6873ab7aac3f2465aa9144b6b4c41c4391cfecc027c8b07e7\n",
            "  Building wheel for distance (setup.py) ... \u001b[?25l\u001b[?25hdone\n",
            "  Created wheel for distance: filename=Distance-0.1.3-py3-none-any.whl size=16276 sha256=f72a9b90fd8ab723d786ecdbe9c378dee4815801f98c348dfda4493e6f771ede\n",
            "  Stored in directory: /root/.cache/pip/wheels/b2/10/1b/96fca621a1be378e2fe104cfb0d160bb6cdf3d04a3d35266cc\n",
            "  Building wheel for antlr4-python3-runtime (setup.py) ... \u001b[?25l\u001b[?25hdone\n",
            "  Created wheel for antlr4-python3-runtime: filename=antlr4_python3_runtime-4.9.3-py3-none-any.whl size=144575 sha256=fe81cdafc2bb078aa709825ee58f5ade6c46c9611d82a8d3d2b2e8ebab173982\n",
            "  Stored in directory: /root/.cache/pip/wheels/8b/8d/53/2af8772d9aec614e3fc65e53d4a993ad73c61daa8bbd85a873\n",
            "  Building wheel for kss (setup.py) ... \u001b[?25l\u001b[?25hdone\n",
            "  Created wheel for kss: filename=kss-3.4.2-py3-none-any.whl size=42448069 sha256=1034dc174403648002735d604aa4906a4e18c1c1c554d99a5efa155488ef7124\n",
            "  Stored in directory: /root/.cache/pip/wheels/ef/22/aa/6399b60516a067ec97fa6599fb2d472aeb25e3f9ee6dae3224\n",
            "  Building wheel for emoji (setup.py) ... \u001b[?25l\u001b[?25hdone\n",
            "  Created wheel for emoji: filename=emoji-1.7.0-py3-none-any.whl size=171046 sha256=48711b4387521ad1e3b65cc450c378c3a03118242a849d596aecf4dbb7b4924f\n",
            "  Stored in directory: /root/.cache/pip/wheels/8a/4e/b6/57b01db010d17ef6ea9b40300af725ef3e210cb1acfb7ac8b6\n",
            "  Building wheel for wget (setup.py) ... \u001b[?25l\u001b[?25hdone\n",
            "  Created wheel for wget: filename=wget-3.2-py3-none-any.whl size=9675 sha256=5270bd9f778b960e13805bd60a8b860dbae8c9809200cad427d4fb4d26df3c3b\n",
            "  Stored in directory: /root/.cache/pip/wheels/a1/b6/7c/0e63e34eb06634181c63adacca38b79ff8f35c37e3c13e3c02\n",
            "Successfully built sentence-transformers distance antlr4-python3-runtime kss emoji wget\n",
            "Installing collected packages: pyyaml, antlr4-python3-runtime, torch, tokenizers, regex, portalocker, omegaconf, huggingface-hub, colorama, wget, transformers, torchvision, sentencepiece, sacrebleu, nltk, hydra-core, emoji, distance, dataclasses, word2word, whoosh, sentence-transformers, marisa-trie, kss, g2p-en, fairseq, pororo\n",
            "  Attempting uninstall: pyyaml\n",
            "    Found existing installation: PyYAML 3.13\n",
            "    Uninstalling PyYAML-3.13:\n",
            "      Successfully uninstalled PyYAML-3.13\n",
            "  Attempting uninstall: torch\n",
            "    Found existing installation: torch 1.11.0+cu113\n",
            "    Uninstalling torch-1.11.0+cu113:\n",
            "      Successfully uninstalled torch-1.11.0+cu113\n",
            "  Attempting uninstall: regex\n",
            "    Found existing installation: regex 2019.12.20\n",
            "    Uninstalling regex-2019.12.20:\n",
            "      Successfully uninstalled regex-2019.12.20\n",
            "  Attempting uninstall: torchvision\n",
            "    Found existing installation: torchvision 0.12.0+cu113\n",
            "    Uninstalling torchvision-0.12.0+cu113:\n",
            "      Successfully uninstalled torchvision-0.12.0+cu113\n",
            "  Attempting uninstall: nltk\n",
            "    Found existing installation: nltk 3.2.5\n",
            "    Uninstalling nltk-3.2.5:\n",
            "      Successfully uninstalled nltk-3.2.5\n",
            "\u001b[31mERROR: pip's dependency resolver does not currently take into account all the packages that are installed. This behaviour is the source of the following dependency conflicts.\n",
            "torchtext 0.12.0 requires torch==1.11.0, but you have torch 1.6.0 which is incompatible.\n",
            "torchaudio 0.11.0+cu113 requires torch==1.11.0, but you have torch 1.6.0 which is incompatible.\u001b[0m\n",
            "Successfully installed antlr4-python3-runtime-4.9.3 colorama-0.4.4 dataclasses-0.6 distance-0.1.3 emoji-1.7.0 fairseq-0.10.2 g2p-en-2.1.0 huggingface-hub-0.6.0 hydra-core-1.2.0 kss-3.4.2 marisa-trie-0.7.7 nltk-3.7 omegaconf-2.2.1 pororo-0.4.2 portalocker-2.4.0 pyyaml-6.0 regex-2022.4.24 sacrebleu-2.1.0 sentence-transformers-2.2.0 sentencepiece-0.1.96 tokenizers-0.12.1 torch-1.6.0 torchvision-0.7.0 transformers-4.19.2 wget-3.2 whoosh-2.7.4 word2word-1.0.0\n"
          ]
        },
        {
          "output_type": "display_data",
          "data": {
            "application/vnd.colab-display-data+json": {
              "pip_warning": {
                "packages": [
                  "pydevd_plugins"
                ]
              }
            }
          },
          "metadata": {}
        }
      ]
    },
    {
      "cell_type": "code",
      "source": [
        "cd drive/MyDrive"
      ],
      "metadata": {
        "colab": {
          "base_uri": "https://localhost:8080/"
        },
        "id": "0kVgxPVsfAFC",
        "outputId": "cffd4289-d755-4327-f7af-19a1e2bd039f"
      },
      "execution_count": null,
      "outputs": [
        {
          "output_type": "stream",
          "name": "stdout",
          "text": [
            "/content/drive/MyDrive\n"
          ]
        }
      ]
    },
    {
      "cell_type": "code",
      "source": [
        "!git clone https://github.com/lovit/KR-WordRank.git"
      ],
      "metadata": {
        "colab": {
          "base_uri": "https://localhost:8080/"
        },
        "id": "drmlnpj7fCeS",
        "outputId": "2ef99c00-e369-4786-89d2-1a039c558248"
      },
      "execution_count": null,
      "outputs": [
        {
          "output_type": "stream",
          "name": "stdout",
          "text": [
            "fatal: destination path 'KR-WordRank' already exists and is not an empty directory.\n"
          ]
        }
      ]
    },
    {
      "cell_type": "code",
      "source": [
        "texts = \"안녕하세요 저는 박태순이고요 아니 그 그렇지만 그런 방식을 좋아합니다.\""
      ],
      "metadata": {
        "id": "o3YlnFSsfELO"
      },
      "execution_count": null,
      "outputs": []
    },
    {
      "cell_type": "code",
      "source": [
        "texts = texts.split(\"\\n\")"
      ],
      "metadata": {
        "id": "6rj8_WPGfFlW"
      },
      "execution_count": null,
      "outputs": []
    },
    {
      "cell_type": "code",
      "source": [
        "print(texts)"
      ],
      "metadata": {
        "colab": {
          "base_uri": "https://localhost:8080/"
        },
        "id": "l_hQu5cUdOHB",
        "outputId": "ffd65453-9bed-48bc-c476-ce4598ef6ac0"
      },
      "execution_count": null,
      "outputs": [
        {
          "output_type": "stream",
          "name": "stdout",
          "text": [
            "['안녕하세요 저는 박태순이고요 아니 그 그렇지만 그런 방식을 좋아합니다.']\n"
          ]
        }
      ]
    },
    {
      "cell_type": "code",
      "source": [
        "from konlpy.tag import Komoran \n",
        "\n",
        "komoran = Komoran() \n",
        "\n",
        "def komoran_tokenizer(sent):\n",
        "   words = komoran.pos(sent, join=True) \n",
        "   words = [w for w in words if ('/NN' in w or '/NP' in w or '/SL' in w or '/VV' in w or '/MM' in w or '/MA' in w)] \n",
        "   return words"
      ],
      "metadata": {
        "id": "HrFyBaFVfGKT"
      },
      "execution_count": null,
      "outputs": []
    },
    {
      "cell_type": "code",
      "source": [
        "!git clone https://github.com/lovit/textrank.git"
      ],
      "metadata": {
        "colab": {
          "base_uri": "https://localhost:8080/"
        },
        "id": "aF-Zn7anfKHo",
        "outputId": "256578fa-aacf-40b9-b790-3f03087096ae"
      },
      "execution_count": null,
      "outputs": [
        {
          "output_type": "stream",
          "name": "stdout",
          "text": [
            "fatal: destination path 'textrank' already exists and is not an empty directory.\n"
          ]
        }
      ]
    },
    {
      "cell_type": "code",
      "source": [
        "cd textrank"
      ],
      "metadata": {
        "colab": {
          "base_uri": "https://localhost:8080/"
        },
        "id": "-Q0TjiIegiNt",
        "outputId": "50a9fa61-eb8f-4e36-8de0-87a59bfa63ac"
      },
      "execution_count": null,
      "outputs": [
        {
          "output_type": "stream",
          "name": "stdout",
          "text": [
            "/content/drive/MyDrive/textrank\n"
          ]
        }
      ]
    },
    {
      "cell_type": "code",
      "source": [
        "from textrank import KeywordSummarizer \n",
        "keyword_summarizer = KeywordSummarizer(tokenize=komoran_tokenizer, min_count=1, min_cooccurrence=2)\n",
        "list = keyword_summarizer.summarize(texts, topk=30)"
      ],
      "metadata": {
        "id": "R-Mph7UOfN98"
      },
      "execution_count": null,
      "outputs": []
    },
    {
      "cell_type": "code",
      "source": [
        "results = []\n",
        "\n",
        "for i in list:\n",
        "  results.append(i[0].split('/')[0])\n",
        "print(results)"
      ],
      "metadata": {
        "colab": {
          "base_uri": "https://localhost:8080/"
        },
        "id": "hTX9eU5dfPT3",
        "outputId": "d6e2dde4-c62b-4752-e6ca-9b485a77eba7"
      },
      "execution_count": null,
      "outputs": [
        {
          "output_type": "stream",
          "name": "stdout",
          "text": [
            "['좋아하', '방식', '그런', '그렇지만', '그', '아니', '고요', '이', '박태순', '저', '안녕하세요']\n"
          ]
        }
      ]
    },
    {
      "cell_type": "code",
      "source": [
        "from pororo import Pororo\n",
        "import pandas as pd\n",
        "from sentence_transformers import util\n",
        "import torch\n",
        "import numpy as np\n",
        "import urllib.request"
      ],
      "metadata": {
        "id": "DbGRBo3sfRL5"
      },
      "execution_count": null,
      "outputs": []
    },
    {
      "cell_type": "code",
      "source": [
        "from tqdm import tqdm\n",
        "tqdm.pandas()"
      ],
      "metadata": {
        "id": "0wm_g8ntfS3H"
      },
      "execution_count": null,
      "outputs": []
    },
    {
      "cell_type": "code",
      "source": [
        "cd .."
      ],
      "metadata": {
        "colab": {
          "base_uri": "https://localhost:8080/"
        },
        "id": "M3F4DmwWfUrI",
        "outputId": "929081f8-dd15-43d6-b9ff-babc5dc34314"
      },
      "execution_count": null,
      "outputs": [
        {
          "output_type": "stream",
          "name": "stdout",
          "text": [
            "/content/drive/MyDrive\n"
          ]
        }
      ]
    },
    {
      "cell_type": "code",
      "source": [
        "Chatbot_Data = pd.read_csv(\"qs.csv\")\n",
        "\n",
        "Chatbot_Data.head()"
      ],
      "metadata": {
        "colab": {
          "base_uri": "https://localhost:8080/",
          "height": 206
        },
        "id": "HESrbzdUfWDM",
        "outputId": "a48be82b-9896-45c9-c5fc-691e45db5bd9"
      },
      "execution_count": null,
      "outputs": [
        {
          "output_type": "execute_result",
          "data": {
            "text/plain": [
              "        Q       A  label\n",
              "0      그냥      그냥      0\n",
              "1       뭐       뭐      0\n",
              "2      근데      근데      0\n",
              "3    프로젝트    프로젝트      0\n",
              "4  할 수 있다  할 수 있다      0"
            ],
            "text/html": [
              "\n",
              "  <div id=\"df-d06af194-0736-48cd-8854-65c8423a894f\">\n",
              "    <div class=\"colab-df-container\">\n",
              "      <div>\n",
              "<style scoped>\n",
              "    .dataframe tbody tr th:only-of-type {\n",
              "        vertical-align: middle;\n",
              "    }\n",
              "\n",
              "    .dataframe tbody tr th {\n",
              "        vertical-align: top;\n",
              "    }\n",
              "\n",
              "    .dataframe thead th {\n",
              "        text-align: right;\n",
              "    }\n",
              "</style>\n",
              "<table border=\"1\" class=\"dataframe\">\n",
              "  <thead>\n",
              "    <tr style=\"text-align: right;\">\n",
              "      <th></th>\n",
              "      <th>Q</th>\n",
              "      <th>A</th>\n",
              "      <th>label</th>\n",
              "    </tr>\n",
              "  </thead>\n",
              "  <tbody>\n",
              "    <tr>\n",
              "      <th>0</th>\n",
              "      <td>그냥</td>\n",
              "      <td>그냥</td>\n",
              "      <td>0</td>\n",
              "    </tr>\n",
              "    <tr>\n",
              "      <th>1</th>\n",
              "      <td>뭐</td>\n",
              "      <td>뭐</td>\n",
              "      <td>0</td>\n",
              "    </tr>\n",
              "    <tr>\n",
              "      <th>2</th>\n",
              "      <td>근데</td>\n",
              "      <td>근데</td>\n",
              "      <td>0</td>\n",
              "    </tr>\n",
              "    <tr>\n",
              "      <th>3</th>\n",
              "      <td>프로젝트</td>\n",
              "      <td>프로젝트</td>\n",
              "      <td>0</td>\n",
              "    </tr>\n",
              "    <tr>\n",
              "      <th>4</th>\n",
              "      <td>할 수 있다</td>\n",
              "      <td>할 수 있다</td>\n",
              "      <td>0</td>\n",
              "    </tr>\n",
              "  </tbody>\n",
              "</table>\n",
              "</div>\n",
              "      <button class=\"colab-df-convert\" onclick=\"convertToInteractive('df-d06af194-0736-48cd-8854-65c8423a894f')\"\n",
              "              title=\"Convert this dataframe to an interactive table.\"\n",
              "              style=\"display:none;\">\n",
              "        \n",
              "  <svg xmlns=\"http://www.w3.org/2000/svg\" height=\"24px\"viewBox=\"0 0 24 24\"\n",
              "       width=\"24px\">\n",
              "    <path d=\"M0 0h24v24H0V0z\" fill=\"none\"/>\n",
              "    <path d=\"M18.56 5.44l.94 2.06.94-2.06 2.06-.94-2.06-.94-.94-2.06-.94 2.06-2.06.94zm-11 1L8.5 8.5l.94-2.06 2.06-.94-2.06-.94L8.5 2.5l-.94 2.06-2.06.94zm10 10l.94 2.06.94-2.06 2.06-.94-2.06-.94-.94-2.06-.94 2.06-2.06.94z\"/><path d=\"M17.41 7.96l-1.37-1.37c-.4-.4-.92-.59-1.43-.59-.52 0-1.04.2-1.43.59L10.3 9.45l-7.72 7.72c-.78.78-.78 2.05 0 2.83L4 21.41c.39.39.9.59 1.41.59.51 0 1.02-.2 1.41-.59l7.78-7.78 2.81-2.81c.8-.78.8-2.07 0-2.86zM5.41 20L4 18.59l7.72-7.72 1.47 1.35L5.41 20z\"/>\n",
              "  </svg>\n",
              "      </button>\n",
              "      \n",
              "  <style>\n",
              "    .colab-df-container {\n",
              "      display:flex;\n",
              "      flex-wrap:wrap;\n",
              "      gap: 12px;\n",
              "    }\n",
              "\n",
              "    .colab-df-convert {\n",
              "      background-color: #E8F0FE;\n",
              "      border: none;\n",
              "      border-radius: 50%;\n",
              "      cursor: pointer;\n",
              "      display: none;\n",
              "      fill: #1967D2;\n",
              "      height: 32px;\n",
              "      padding: 0 0 0 0;\n",
              "      width: 32px;\n",
              "    }\n",
              "\n",
              "    .colab-df-convert:hover {\n",
              "      background-color: #E2EBFA;\n",
              "      box-shadow: 0px 1px 2px rgba(60, 64, 67, 0.3), 0px 1px 3px 1px rgba(60, 64, 67, 0.15);\n",
              "      fill: #174EA6;\n",
              "    }\n",
              "\n",
              "    [theme=dark] .colab-df-convert {\n",
              "      background-color: #3B4455;\n",
              "      fill: #D2E3FC;\n",
              "    }\n",
              "\n",
              "    [theme=dark] .colab-df-convert:hover {\n",
              "      background-color: #434B5C;\n",
              "      box-shadow: 0px 1px 3px 1px rgba(0, 0, 0, 0.15);\n",
              "      filter: drop-shadow(0px 1px 2px rgba(0, 0, 0, 0.3));\n",
              "      fill: #FFFFFF;\n",
              "    }\n",
              "  </style>\n",
              "\n",
              "      <script>\n",
              "        const buttonEl =\n",
              "          document.querySelector('#df-d06af194-0736-48cd-8854-65c8423a894f button.colab-df-convert');\n",
              "        buttonEl.style.display =\n",
              "          google.colab.kernel.accessAllowed ? 'block' : 'none';\n",
              "\n",
              "        async function convertToInteractive(key) {\n",
              "          const element = document.querySelector('#df-d06af194-0736-48cd-8854-65c8423a894f');\n",
              "          const dataTable =\n",
              "            await google.colab.kernel.invokeFunction('convertToInteractive',\n",
              "                                                     [key], {});\n",
              "          if (!dataTable) return;\n",
              "\n",
              "          const docLinkHtml = 'Like what you see? Visit the ' +\n",
              "            '<a target=\"_blank\" href=https://colab.research.google.com/notebooks/data_table.ipynb>data table notebook</a>'\n",
              "            + ' to learn more about interactive tables.';\n",
              "          element.innerHTML = '';\n",
              "          dataTable['output_type'] = 'display_data';\n",
              "          await google.colab.output.renderOutput(dataTable, element);\n",
              "          const docLink = document.createElement('div');\n",
              "          docLink.innerHTML = docLinkHtml;\n",
              "          element.appendChild(docLink);\n",
              "        }\n",
              "      </script>\n",
              "    </div>\n",
              "  </div>\n",
              "  "
            ]
          },
          "metadata": {},
          "execution_count": 17
        }
      ]
    },
    {
      "cell_type": "code",
      "source": [
        "sTe = Pororo(task=\"sentence_embedding\", lang=\"ko\")\n",
        "Chatbot_Data['EmbVector'] = Chatbot_Data['Q'].progress_map(lambda x : sTe(x))"
      ],
      "metadata": {
        "colab": {
          "base_uri": "https://localhost:8080/"
        },
        "id": "7KU7yMjAfX7q",
        "outputId": "b2cd95c7-9d7a-431d-f15d-b10a6abbe50e"
      },
      "execution_count": null,
      "outputs": [
        {
          "output_type": "stream",
          "name": "stderr",
          "text": [
            "\n",
            "\n",
            "\n",
            "100%|██████████| 89/89 [00:06<00:00, 14.77it/s]\n"
          ]
        }
      ]
    },
    {
      "cell_type": "code",
      "source": [
        "EmbData = torch.tensor(Chatbot_Data['EmbVector'].tolist())"
      ],
      "metadata": {
        "id": "ST1w85S_fZbR"
      },
      "execution_count": null,
      "outputs": []
    },
    {
      "cell_type": "code",
      "source": [
        "result = []"
      ],
      "metadata": {
        "id": "nD8GZn14kuUZ"
      },
      "execution_count": null,
      "outputs": []
    },
    {
      "cell_type": "code",
      "source": [
        "def chat(sent=\"0\"):\n",
        "  for i in results:\n",
        "    a = \"\"\n",
        "    # Pororo Sentense Embedding으로 텍스트 유사도를 구합니다.\n",
        "    q = sTe(i)\n",
        "    # 질문을 Tensor로 바꿉니다.\n",
        "    q = torch.tensor(q)\n",
        "    # 코사인 유사도 \n",
        "    cos_sim = util.pytorch_cos_sim(q, EmbData)\n",
        "    #유사도가 가장 비슷한 질문 인덱스를 구합니다.\n",
        "    best_sim_idx = np.where(cos_sim >= 0.9)\n",
        "    \n",
        "    for i in best_sim_idx[1]:\n",
        "      result.append(Chatbot_Data['A'][i])\n",
        "  print((result))"
      ],
      "metadata": {
        "id": "EYfcfO8Jfa5-"
      },
      "execution_count": null,
      "outputs": []
    },
    {
      "cell_type": "code",
      "source": [
        "chat()"
      ],
      "metadata": {
        "colab": {
          "base_uri": "https://localhost:8080/"
        },
        "id": "5j6MPwArfcUx",
        "outputId": "10bfb3db-e9af-4850-bccd-32fb7acd8816"
      },
      "execution_count": null,
      "outputs": [
        {
          "output_type": "stream",
          "name": "stdout",
          "text": [
            "['행복한', '근데', '음', '그', '근데', '음', '그']\n"
          ]
        }
      ]
    },
    {
      "cell_type": "code",
      "source": [
        "!apt-get install fonts-nanum*\n",
        "!apt-get install fontconfig"
      ],
      "metadata": {
        "colab": {
          "base_uri": "https://localhost:8080/"
        },
        "id": "97VehQgClh5p",
        "outputId": "169c2a2c-9609-4ce9-9cf1-e0488fb8c450"
      },
      "execution_count": null,
      "outputs": [
        {
          "output_type": "stream",
          "name": "stdout",
          "text": [
            "Reading package lists... Done\n",
            "Building dependency tree       \n",
            "Reading state information... Done\n",
            "Note, selecting 'fonts-nanum-eco' for glob 'fonts-nanum*'\n",
            "Note, selecting 'fonts-nanum' for glob 'fonts-nanum*'\n",
            "Note, selecting 'fonts-nanum-gothic-light' for glob 'fonts-nanum*'\n",
            "Note, selecting 'fonts-nanum-coding' for glob 'fonts-nanum*'\n",
            "Note, selecting 'fonts-nanum-extra' for glob 'fonts-nanum*'\n",
            "The following package was automatically installed and is no longer required:\n",
            "  libnvidia-common-460\n",
            "Use 'apt autoremove' to remove it.\n",
            "The following NEW packages will be installed:\n",
            "  fonts-nanum fonts-nanum-coding fonts-nanum-eco fonts-nanum-extra\n",
            "0 upgraded, 4 newly installed, 0 to remove and 42 not upgraded.\n",
            "Need to get 37.0 MB of archives.\n",
            "After this operation, 145 MB of additional disk space will be used.\n",
            "Get:1 http://archive.ubuntu.com/ubuntu bionic/universe amd64 fonts-nanum all 20170925-1 [9,604 kB]\n",
            "Get:2 http://archive.ubuntu.com/ubuntu bionic/universe amd64 fonts-nanum-eco all 1.000-6 [14.0 MB]\n",
            "Get:3 http://archive.ubuntu.com/ubuntu bionic/universe amd64 fonts-nanum-extra all 20170925-1 [12.2 MB]\n",
            "Get:4 http://archive.ubuntu.com/ubuntu bionic/universe amd64 fonts-nanum-coding all 2.5-1 [1,083 kB]\n",
            "Fetched 37.0 MB in 3s (11.8 MB/s)\n",
            "Selecting previously unselected package fonts-nanum.\n",
            "(Reading database ... 155629 files and directories currently installed.)\n",
            "Preparing to unpack .../fonts-nanum_20170925-1_all.deb ...\n",
            "Unpacking fonts-nanum (20170925-1) ...\n",
            "Selecting previously unselected package fonts-nanum-eco.\n",
            "Preparing to unpack .../fonts-nanum-eco_1.000-6_all.deb ...\n",
            "Unpacking fonts-nanum-eco (1.000-6) ...\n",
            "Selecting previously unselected package fonts-nanum-extra.\n",
            "Preparing to unpack .../fonts-nanum-extra_20170925-1_all.deb ...\n",
            "Unpacking fonts-nanum-extra (20170925-1) ...\n",
            "Selecting previously unselected package fonts-nanum-coding.\n",
            "Preparing to unpack .../fonts-nanum-coding_2.5-1_all.deb ...\n",
            "Unpacking fonts-nanum-coding (2.5-1) ...\n",
            "Setting up fonts-nanum-extra (20170925-1) ...\n",
            "Setting up fonts-nanum (20170925-1) ...\n",
            "Setting up fonts-nanum-coding (2.5-1) ...\n",
            "Setting up fonts-nanum-eco (1.000-6) ...\n",
            "Processing triggers for fontconfig (2.12.6-0ubuntu2) ...\n",
            "Reading package lists... Done\n",
            "Building dependency tree       \n",
            "Reading state information... Done\n",
            "fontconfig is already the newest version (2.12.6-0ubuntu2).\n",
            "fontconfig set to manually installed.\n",
            "The following package was automatically installed and is no longer required:\n",
            "  libnvidia-common-460\n",
            "Use 'apt autoremove' to remove it.\n",
            "0 upgraded, 0 newly installed, 0 to remove and 42 not upgraded.\n"
          ]
        }
      ]
    },
    {
      "cell_type": "code",
      "source": [
        "from wordcloud import WordCloud\n",
        "from konlpy.tag import Twitter\n",
        "from collections import Counter"
      ],
      "metadata": {
        "id": "87Bdo3oOkpbt"
      },
      "execution_count": null,
      "outputs": []
    },
    {
      "cell_type": "code",
      "source": [
        "counts = Counter(result)\n",
        "tags = counts.most_common(40)"
      ],
      "metadata": {
        "id": "sb3JDy7Wj4Ne"
      },
      "execution_count": null,
      "outputs": []
    },
    {
      "cell_type": "code",
      "source": [
        "print(tags)"
      ],
      "metadata": {
        "colab": {
          "base_uri": "https://localhost:8080/"
        },
        "id": "iZ3oa38OrUqv",
        "outputId": "3acc9b7e-c4df-462d-8319-be25b8cbfa42"
      },
      "execution_count": null,
      "outputs": [
        {
          "output_type": "stream",
          "name": "stdout",
          "text": [
            "[('근데', 2), ('음', 2), ('그', 2), ('행복한', 1)]\n"
          ]
        }
      ]
    },
    {
      "cell_type": "code",
      "source": [
        "ll"
      ],
      "metadata": {
        "colab": {
          "base_uri": "https://localhost:8080/"
        },
        "id": "dqORRarzmSlU",
        "outputId": "5f5e7aa8-ed7d-4d85-c755-785ae9b6b509"
      },
      "execution_count": null,
      "outputs": [
        {
          "output_type": "stream",
          "name": "stdout",
          "text": [
            "total 103685\n",
            "-rw-------  1 root     4599 Feb  8  2021  123.jfif\n",
            "-rw-------  1 root  1018917 Dec  1 07:56 '1638345383323 (1).png'\n",
            "-rw-------  1 root  1018917 Dec  1 07:57  1638345383323.png\n",
            "-rw-------  1 root      143 Aug 12  2021 '벽벽벽 (1).gdoc'\n",
            "-rw-------  1 root      143 Nov 15  2021 '세종대학교 1학년 코딩수업 개선 .gform'\n",
            "-rw-------  1 root 13825431 Apr 28 14:09  박태순_포트폴리오-1.pdf\n",
            "-rw-------  1 root  1501460 Dec  2 09:29 '스크린샷 2021-12-02 오후 6.27.45.png'\n",
            "-rw-------  1 root  2642158 May  5 09:06  5차년도_2차.csv\n",
            "drwx------  2 root     4096 May  5 09:46  \u001b[0m\u001b[01;34mbuild\u001b[0m/\n",
            "-rw-------  1 root    12836 Feb  8  2021  checkConsciousness.png\n",
            "drwx------  2 root     4096 Jul 20  2021 \u001b[01;34m'Colab Notebooks'\u001b[0m/\n",
            "-rw-------  1 root   621990 May  5 09:42  config.log\n",
            "-rw-------  1 root    42228 May  5 09:44  config.status\n",
            "-rw-------  1 root      190 Sep  7  2020  Data\n",
            "-rw-------  1 root      143 Nov  7  2021 'data1 (1).gdoc'\n",
            "-rw-------  1 root      143 Nov 11  2021  data1-1.gdoc\n",
            "-rw-------  1 root      143 Nov  7  2021  data1.gdoc\n",
            "-rw-------  1 root      143 Oct 20  2020  과제.gdoc\n",
            "-rw-------  1 root      143 Sep 26  2021  스키마~~.gdoc\n",
            "-rw-------  1 root      143 Dec 17 08:56  통지서.gdoc\n",
            "-rw-------  1 root      143 Jun 19  2021 '아이디어 사이트.gdoc'\n",
            "-rw-------  1 root      143 Aug 31  2020  레이아웃.gdoc\n",
            "-rw-------  1 root      143 Aug 12  2021  벽벽벽.gdoc\n",
            "drwx------ 10 root     4096 May 17 10:55  \u001b[01;34mKR-WordRank\u001b[0m/\n",
            "-rw-------  1 root 34875612 May  5 09:46  libpython3.8.a\n",
            "-rw-------  1 root    77503 May  5 09:44  Makefile\n",
            "-rw-------  1 root    68262 May  5 09:46  Makefile.pre\n",
            "drwx------  2 root     4096 May  5 09:44  \u001b[01;34mMisc\u001b[0m/\n",
            "drwx------  2 root     4096 May  5 09:44  \u001b[01;34mModules\u001b[0m/\n",
            "-rw-------  1 root  4642244 Oct 24  2016  NanumGothicBold.ttf\n",
            "-rw-------  1 root  2268844 Oct 20  2016  NanumGothic.otf\n",
            "drwx------  2 root     4096 May  5 09:44  \u001b[01;34mObjects\u001b[0m/\n",
            "drwx------  2 root     4096 May  5 09:44  \u001b[01;34mParser\u001b[0m/\n",
            "drwx------  2 root     4096 May  5 09:44  \u001b[01;34mPrograms\u001b[0m/\n",
            "-rw-------  1 root       26 May  5 09:46  pybuilddir.txt\n",
            "-rw-------  1 root    47539 May  5 09:46  pyconfig.h\n",
            "-rw-------  1 root 18586992 May  5 09:46  python\n",
            "drwx------  2 root     4096 May  5 09:44  \u001b[01;34mPython\u001b[0m/\n",
            "drwx------  2 root     4096 May  5 09:42  \u001b[01;34mPython-3.8.12\u001b[0m/\n",
            "-rw-------  1 root 24769402 Aug 30  2021  Python-3.8.12.tgz\n",
            "-rw-------  1 root     3087 May  5 09:48  python-config\n",
            "-rw-------  1 root     2133 May  5 09:48  python-config.py\n",
            "-rw-------  1 root    65400 May  5 09:48  python-gdb.py\n",
            "-rw-------  1 root     1833 May 19 08:39  qs.csv\n",
            "drwx------  2 root     4096 Apr  4 03:39 \u001b[01;34m'sentiment analysis'\u001b[0m/\n",
            "drwx------  2 root     4096 May  5 11:03  \u001b[01;34mShare\u001b[0m/\n",
            "drwx------  2 root     4096 May  5 12:08  \u001b[01;34mShared\u001b[0m/\n",
            "-rw-------  1 root      143 Oct  4  2020 'Talk_2020.10.2 20:16-1.gdoc'\n",
            "-rw-------  1 root      143 Aug 31  2020 'test (1).gdoc'\n",
            "-rw-------  1 root     3968 May 16 15:39  test.csv\n",
            "-rw-------  1 root      143 Aug 31  2020  test.gdoc\n",
            "drwx------  5 root     4096 May 19 08:59  \u001b[01;34mtextrank\u001b[0m/\n",
            "-rw-------  1 root      143 Nov  7  2021  user_dic.gdoc\n"
          ]
        }
      ]
    },
    {
      "cell_type": "code",
      "source": [
        "print(counts)"
      ],
      "metadata": {
        "colab": {
          "base_uri": "https://localhost:8080/"
        },
        "id": "NbVtrMfiDzUY",
        "outputId": "abe041c3-1361-40d1-d67c-d4edcdc12162"
      },
      "execution_count": null,
      "outputs": [
        {
          "output_type": "stream",
          "name": "stdout",
          "text": [
            "Counter({'근데': 2, '음': 2, '그': 2, '행복한': 1})\n"
          ]
        }
      ]
    },
    {
      "cell_type": "code",
      "source": [
        "ll"
      ],
      "metadata": {
        "colab": {
          "base_uri": "https://localhost:8080/"
        },
        "id": "ePVkrx1yFq0I",
        "outputId": "f3792b6b-6b39-4c7d-eee0-02d24389190d"
      },
      "execution_count": null,
      "outputs": [
        {
          "output_type": "stream",
          "name": "stdout",
          "text": [
            "total 103685\n",
            "-rw-------  1 root     4599 Feb  8  2021  123.jfif\n",
            "-rw-------  1 root  1018917 Dec  1 07:56 '1638345383323 (1).png'\n",
            "-rw-------  1 root  1018917 Dec  1 07:57  1638345383323.png\n",
            "-rw-------  1 root      143 Aug 12  2021 '벽벽벽 (1).gdoc'\n",
            "-rw-------  1 root      143 Nov 15  2021 '세종대학교 1학년 코딩수업 개선 .gform'\n",
            "-rw-------  1 root 13825431 Apr 28 14:09  박태순_포트폴리오-1.pdf\n",
            "-rw-------  1 root  1501460 Dec  2 09:29 '스크린샷 2021-12-02 오후 6.27.45.png'\n",
            "-rw-------  1 root  2642158 May  5 09:06  5차년도_2차.csv\n",
            "drwx------  2 root     4096 May  5 09:46  \u001b[0m\u001b[01;34mbuild\u001b[0m/\n",
            "-rw-------  1 root    12836 Feb  8  2021  checkConsciousness.png\n",
            "drwx------  2 root     4096 Jul 20  2021 \u001b[01;34m'Colab Notebooks'\u001b[0m/\n",
            "-rw-------  1 root   621990 May  5 09:42  config.log\n",
            "-rw-------  1 root    42228 May  5 09:44  config.status\n",
            "-rw-------  1 root      190 Sep  7  2020  Data\n",
            "-rw-------  1 root      143 Nov  7  2021 'data1 (1).gdoc'\n",
            "-rw-------  1 root      143 Nov 11  2021  data1-1.gdoc\n",
            "-rw-------  1 root      143 Nov  7  2021  data1.gdoc\n",
            "-rw-------  1 root      143 Oct 20  2020  과제.gdoc\n",
            "-rw-------  1 root      143 Sep 26  2021  스키마~~.gdoc\n",
            "-rw-------  1 root      143 Dec 17 08:56  통지서.gdoc\n",
            "-rw-------  1 root      143 Jun 19  2021 '아이디어 사이트.gdoc'\n",
            "-rw-------  1 root      143 Aug 31  2020  레이아웃.gdoc\n",
            "-rw-------  1 root      143 Aug 12  2021  벽벽벽.gdoc\n",
            "drwx------ 10 root     4096 May 17 10:55  \u001b[01;34mKR-WordRank\u001b[0m/\n",
            "-rw-------  1 root 34875612 May  5 09:46  libpython3.8.a\n",
            "-rw-------  1 root    77503 May  5 09:44  Makefile\n",
            "-rw-------  1 root    68262 May  5 09:46  Makefile.pre\n",
            "drwx------  2 root     4096 May  5 09:44  \u001b[01;34mMisc\u001b[0m/\n",
            "drwx------  2 root     4096 May  5 09:44  \u001b[01;34mModules\u001b[0m/\n",
            "-rw-------  1 root  4642244 Oct 24  2016  NanumGothicBold.ttf\n",
            "-rw-------  1 root  2268844 Oct 20  2016  NanumGothic.otf\n",
            "drwx------  2 root     4096 May  5 09:44  \u001b[01;34mObjects\u001b[0m/\n",
            "drwx------  2 root     4096 May  5 09:44  \u001b[01;34mParser\u001b[0m/\n",
            "drwx------  2 root     4096 May  5 09:44  \u001b[01;34mPrograms\u001b[0m/\n",
            "-rw-------  1 root       26 May  5 09:46  pybuilddir.txt\n",
            "-rw-------  1 root    47539 May  5 09:46  pyconfig.h\n",
            "-rw-------  1 root 18586992 May  5 09:46  python\n",
            "drwx------  2 root     4096 May  5 09:44  \u001b[01;34mPython\u001b[0m/\n",
            "drwx------  2 root     4096 May  5 09:42  \u001b[01;34mPython-3.8.12\u001b[0m/\n",
            "-rw-------  1 root 24769402 Aug 30  2021  Python-3.8.12.tgz\n",
            "-rw-------  1 root     3087 May  5 09:48  python-config\n",
            "-rw-------  1 root     2133 May  5 09:48  python-config.py\n",
            "-rw-------  1 root    65400 May  5 09:48  python-gdb.py\n",
            "-rw-------  1 root     1833 May 19 08:39  qs.csv\n",
            "drwx------  2 root     4096 Apr  4 03:39 \u001b[01;34m'sentiment analysis'\u001b[0m/\n",
            "drwx------  2 root     4096 May  5 11:03  \u001b[01;34mShare\u001b[0m/\n",
            "drwx------  2 root     4096 May  5 12:08  \u001b[01;34mShared\u001b[0m/\n",
            "-rw-------  1 root      143 Oct  4  2020 'Talk_2020.10.2 20:16-1.gdoc'\n",
            "-rw-------  1 root      143 Aug 31  2020 'test (1).gdoc'\n",
            "-rw-------  1 root     3968 May 16 15:39  test.csv\n",
            "-rw-------  1 root      143 Aug 31  2020  test.gdoc\n",
            "drwx------  5 root     4096 May 19 08:59  \u001b[01;34mtextrank\u001b[0m/\n",
            "-rw-------  1 root      143 Nov  7  2021  user_dic.gdoc\n"
          ]
        }
      ]
    },
    {
      "cell_type": "code",
      "source": [
        "# WordCloud를 생성한다.\n",
        "# 한글을 분석하기위해 font를 한글로 지정해주어야 된다. macOS는 .otf , window는 .ttf 파일의 위치를\n",
        "# 지정해준다. (ex. '/Font/GodoM.otf')\n",
        "wc = WordCloud(font_path = './NanumGothic.otf',\n",
        "                        background_color = 'white',\n",
        "                        width=512, height=512,\n",
        "                        max_font_size=500,\n",
        "                        max_words=1000)\n",
        "\n",
        "cloud = wc.generate_from_frequencies(counts)\n",
        "\n",
        "# 생성된 WordCloud를 test.jpg로 보낸다.\n",
        "cloud.to_file('test.jpg')"
      ],
      "metadata": {
        "colab": {
          "base_uri": "https://localhost:8080/"
        },
        "id": "Ly9dm9ZErA31",
        "outputId": "33cfd84e-a9ad-44aa-84e8-577b8dbae008"
      },
      "execution_count": null,
      "outputs": [
        {
          "output_type": "execute_result",
          "data": {
            "text/plain": [
              "<wordcloud.wordcloud.WordCloud at 0x7f9c3383e950>"
            ]
          },
          "metadata": {},
          "execution_count": 33
        }
      ]
    },
    {
      "cell_type": "code",
      "source": [
        ""
      ],
      "metadata": {
        "id": "dVah2_j8mdH4"
      },
      "execution_count": null,
      "outputs": []
    }
  ]
}